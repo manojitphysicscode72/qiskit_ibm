{
 "cells": [
  {
   "cell_type": "markdown",
   "id": "cda7cb03-08e3-4470-9996-e4c5e7148d47",
   "metadata": {},
   "source": [
    "# Qiskit Global Summer Schools"
   ]
  },
  {
   "cell_type": "markdown",
   "id": "7999f6bc-7b80-400f-b40a-fc58e3bdb71b",
   "metadata": {},
   "source": [
    "## QGSS22"
   ]
  },
  {
   "cell_type": "markdown",
   "id": "6dd0a01a-7115-4d98-915b-49ea13816f0f",
   "metadata": {},
   "source": [
    "<center><img src=\"qs22.png\" style=\"width:557px; height:307px\"/></center>"
   ]
  },
  {
   "cell_type": "markdown",
   "id": "6624eacc-5a45-4d72-8a05-b4235da52fa4",
   "metadata": {},
   "source": [
    "# Lecture : Quantum Chemistry in Near-term Quantum Computers"
   ]
  },
  {
   "cell_type": "markdown",
   "id": "3d852cad-be9c-42d7-a305-1950b567a411",
   "metadata": {},
   "source": [
    "<img src=\"pb.jpg\" style=\"width:117px; height:120px\"/>"
   ]
  },
  {
   "cell_type": "markdown",
   "id": "11d9f4fb-da23-49fb-8208-7b6c5e3ed6be",
   "metadata": {},
   "source": [
    "**Dr. Panagiotis Barkoutsos**<br>\n",
    "*IBM Quantum<br>\n",
    "IBM Research Europe<br>\n",
    "Zurich*"
   ]
  },
  {
   "cell_type": "markdown",
   "id": "bc66d424-3a99-47f4-b6e0-d020331519a0",
   "metadata": {},
   "source": [
    "## *IBM Quantum, IBM Research Europe*"
   ]
  },
  {
   "cell_type": "markdown",
   "id": "7a813f93-75c2-4fa0-85cc-5910646711c9",
   "metadata": {},
   "source": [
    "<img src=\"z.jpg\" style=\"width:557px; height:307px\"/>"
   ]
  },
  {
   "cell_type": "markdown",
   "id": "e7f0571b-97c2-468d-bea1-e931e92f0b82",
   "metadata": {},
   "source": [
    "<br>"
   ]
  },
  {
   "cell_type": "markdown",
   "id": "586b0fe5-3495-430c-90a0-e2dc373e240d",
   "metadata": {},
   "source": [
    "## Outline\n",
    "- Quantum chemistry: why is quantum chemistry important?<br>\n",
    "- How do we approach quantum chemistry in near-term quantum computers?<br>\n",
    "- Is the solution exact and how can we acquire better solutions?<br>\n",
    "- What software can be used?<br>\n",
    "- Are there applications beyond the electronic structure problem?"
   ]
  },
  {
   "cell_type": "markdown",
   "id": "d1170cdf-7507-4a74-a508-1d8afb0deedd",
   "metadata": {},
   "source": [
    "## Introduction <br>\n",
    "\"I'm not happy with all the analyses that go with just the classical theory, *because nature isn't classical*, dammit, and if you want to make a simulation of nature, you'd better make it quantum mechanical...\""
   ]
  },
  {
   "cell_type": "markdown",
   "id": "957f53e5-16f9-4549-a168-2e237ebcafd3",
   "metadata": {},
   "source": [
    "<img src=\"rp.jpg\" style=\"width:377px; height:230px\"/>"
   ]
  },
  {
   "cell_type": "markdown",
   "id": "83d59d38-55fc-410f-8066-3a16da26b73d",
   "metadata": {},
   "source": [
    "One may go through : [Simulating Physics with Computers](http://localhost:8888/lab/tree/feynman-quantum-1981.pdf)"
   ]
  },
  {
   "cell_type": "markdown",
   "id": "65d13fa1-0361-4528-b258-c98e53c0f3c8",
   "metadata": {},
   "source": [
    "## What is quantum chemistry?"
   ]
  },
  {
   "cell_type": "markdown",
   "id": "f8549e80-a98a-4e94-9d0d-a283843ba5ed",
   "metadata": {},
   "source": [
    "Use computer simulations to assist in solving chemical problems :<br>\n",
    "- Molecular sructure<br>\n",
    "- Reaction rates<br>\n",
    "- Reaction pathways"
   ]
  },
  {
   "cell_type": "markdown",
   "id": "b49918e0-5421-43ae-a153-d6b64f72bb71",
   "metadata": {},
   "source": [
    "## Why quantum chemistry is a challenge?"
   ]
  },
  {
   "cell_type": "markdown",
   "id": "53ab5494-72f3-4906-9a02-ec07951962b8",
   "metadata": {},
   "source": [
    "Solving interacting fermionic problems is at the core of most challenges in computational physics and high-performance computing: the exact electronic wavefunction for a system with $N$ electrons expanded in M orbitals (basis functions) scales *exponentially*.<br>\n",
    "\n",
    "*\"There are $\\approx 10^{12}$ different possibilities to distribute 21 electrons in 43 spin orbitals.\"*"
   ]
  },
  {
   "cell_type": "markdown",
   "id": "95b8090e-8a11-4a18-84cd-c44f34b2d3d2",
   "metadata": {},
   "source": [
    "<br>"
   ]
  },
  {
   "cell_type": "markdown",
   "id": "8ec9f505-4551-444d-8123-4c29b6ed751b",
   "metadata": {},
   "source": [
    "Classically, several approximations have been derived to break the exponential scaling<br>\n",
    "\n",
    "<center><img src=\"cs.png\" style=\"width:577px; height:342px\"/></center>"
   ]
  },
  {
   "cell_type": "markdown",
   "id": "282e3b88-70ad-441c-b41a-f54dc425f4e2",
   "metadata": {},
   "source": [
    "## What kind of problems are we interested in?"
   ]
  },
  {
   "cell_type": "markdown",
   "id": "8a07a564-b925-46a1-b4aa-4a801baf74ee",
   "metadata": {},
   "source": [
    "Some examples of interesting and important problems that we are using a quantum computer for are: <br>\n",
    "- Electronic Structure problem\n",
    "  - Ground state and excited state\n",
    "  - Properties of molecular systems\n",
    "- Chemical reaction understanding\n",
    "- Quantum and classical dynamics                                                                                        \n",
    "- Optimization problems in natural sciences\n",
    "   - Material design\n",
    "   - Protein folding                                                                                    "
   ]
  },
  {
   "cell_type": "markdown",
   "id": "12981ba4-b7ef-4262-a004-393a7f1c7e95",
   "metadata": {},
   "source": [
    "## What is the input of the problem and how do we map it in a quantum computer?"
   ]
  },
  {
   "cell_type": "markdown",
   "id": "1b05fe46-dcd0-41fb-8d3c-4cc9a669e2d6",
   "metadata": {},
   "source": [
    "**Fermionic Hamiltonian**\n",
    "\\begin{equation}\n",
    "    \\hat{H}_{elec}= \\sum_{pq}h_{pq}\\,{a_{p}^\\dagger}\\,a_{q}+ \\frac{1}{2}\\sum_{pqrs}h_{pqrs}\\,{a_{p}^\\dagger}\\,{a_{r}^\\dagger}a_{s}\\,a_{q}\n",
    "\\end{equation}<b>\n",
    "\n",
    "\\begin{equation}\n",
    "    \\downarrow\n",
    "\\end{equation}\n",
    "**Qubit Hamiltonian**\n",
    "\\begin{equation}\n",
    "    \\hat{H}_{elec}= \\sum_{i}c_{i}\\hat{P_{i}}\n",
    "\\end{equation}\n"
   ]
  },
  {
   "cell_type": "markdown",
   "id": "68864b08-c31d-48e7-9893-da6247c6eeb0",
   "metadata": {},
   "source": [
    "## Quantum chemistry on a quantum computer: the circuit model\n",
    "\n",
    "<center><img src=\"qcs.png\" style=\"width:577px; height:312px\"/></center>"
   ]
  },
  {
   "cell_type": "markdown",
   "id": "6ca03dfc-db9e-45fc-b1be-7d6c8b08d0ee",
   "metadata": {},
   "source": [
    "## Near-term quantum chemistry relies on hybrid quantum-classical algorithms"
   ]
  },
  {
   "cell_type": "markdown",
   "id": "003b49c4-210e-4c6a-be46-62553ed7d73f",
   "metadata": {},
   "source": [
    "**Advantages:**<br>\n",
    "- Use short-depth quantum circuits that fit into our coherence time of the qubits <br>\n",
    "- Can potentially improve on best classical estimates by using non-classical trial states<br>\n",
    "- Store a quantum state with exponentially fewer resources than required classically "
   ]
  },
  {
   "cell_type": "markdown",
   "id": "ec3fe8f8-f926-4a0e-b28c-32cb0eb11ef8",
   "metadata": {},
   "source": [
    "<center><img src=\"Blank diagram (3).png\" style=\"width:577px; height:322px\"/></center>"
   ]
  },
  {
   "cell_type": "markdown",
   "id": "166826be-6e22-412d-8d66-402c859cd8b6",
   "metadata": {},
   "source": [
    "**Variational Quantum Eigensolver** is a very important and sophisticated toolkit in this regard, will study in time."
   ]
  },
  {
   "cell_type": "markdown",
   "id": "23a8e17a-c477-4ac0-bda2-24b9f5f7df2f",
   "metadata": {},
   "source": [
    "Quantum Chemistry simulations can be simulated using *qiskit nature*.<br>\n",
    "\n",
    "*Future reference*: https://medium.com/qiskit/introducing-qiskit-nature-cb9e588bb004"
   ]
  },
  {
   "cell_type": "markdown",
   "id": "5d9b9c71-f698-4ca4-bfe4-9457586baf0a",
   "metadata": {},
   "source": [
    "<br>"
   ]
  },
  {
   "cell_type": "markdown",
   "id": "bacadb12-6ff0-4e08-82d9-870e1a1cf3e7",
   "metadata": {},
   "source": [
    "---"
   ]
  },
  {
   "cell_type": "code",
   "execution_count": null,
   "id": "89a3a5de-b0f6-41d1-a197-1e18a8827d96",
   "metadata": {},
   "outputs": [],
   "source": []
  }
 ],
 "metadata": {
  "kernelspec": {
   "display_name": "Python 3 (ipykernel)",
   "language": "python",
   "name": "python3"
  },
  "language_info": {
   "codemirror_mode": {
    "name": "ipython",
    "version": 3
   },
   "file_extension": ".py",
   "mimetype": "text/x-python",
   "name": "python",
   "nbconvert_exporter": "python",
   "pygments_lexer": "ipython3",
   "version": "3.11.4"
  }
 },
 "nbformat": 4,
 "nbformat_minor": 5
}
